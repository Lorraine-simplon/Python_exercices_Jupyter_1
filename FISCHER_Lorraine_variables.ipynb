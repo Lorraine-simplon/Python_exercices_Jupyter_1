{
 "cells": [
  {
   "cell_type": "code",
   "execution_count": 1,
   "id": "6f4b612e",
   "metadata": {},
   "outputs": [
    {
     "name": "stdout",
     "output_type": "stream",
     "text": [
      "10\n"
     ]
    }
   ],
   "source": [
    "print(5+5)"
   ]
  },
  {
   "cell_type": "code",
   "execution_count": 2,
   "id": "5b2fc34a",
   "metadata": {},
   "outputs": [
    {
     "name": "stdout",
     "output_type": "stream",
     "text": [
      "3\n"
     ]
    }
   ],
   "source": [
    "print(6-3)"
   ]
  },
  {
   "cell_type": "code",
   "execution_count": 3,
   "id": "1124bc77",
   "metadata": {},
   "outputs": [
    {
     "name": "stdout",
     "output_type": "stream",
     "text": [
      "30\n"
     ]
    }
   ],
   "source": [
    "print(5*6)"
   ]
  },
  {
   "cell_type": "code",
   "execution_count": 4,
   "id": "4b2e6a99",
   "metadata": {},
   "outputs": [
    {
     "name": "stdout",
     "output_type": "stream",
     "text": [
      "10.0\n"
     ]
    }
   ],
   "source": [
    "print(30/3)"
   ]
  },
  {
   "cell_type": "code",
   "execution_count": 5,
   "id": "1adf9de1",
   "metadata": {},
   "outputs": [
    {
     "name": "stdout",
     "output_type": "stream",
     "text": [
      "729\n"
     ]
    }
   ],
   "source": [
    "print(3**6)"
   ]
  },
  {
   "cell_type": "code",
   "execution_count": 7,
   "id": "ec175f18",
   "metadata": {},
   "outputs": [
    {
     "name": "stdout",
     "output_type": "stream",
     "text": [
      "Le résultat de 5+5 est de 10\n"
     ]
    }
   ],
   "source": [
    "print(\"Le résultat de 5+5 est de 10\")"
   ]
  },
  {
   "cell_type": "code",
   "execution_count": 9,
   "id": "9748c772",
   "metadata": {},
   "outputs": [
    {
     "name": "stdout",
     "output_type": "stream",
     "text": [
      "Hello World\n"
     ]
    }
   ],
   "source": [
    "print(\"Hello World\")"
   ]
  },
  {
   "cell_type": "code",
   "execution_count": 13,
   "id": "ce7b793c",
   "metadata": {},
   "outputs": [
    {
     "name": "stdout",
     "output_type": "stream",
     "text": [
      "Il y a beaucoup de vent Il fait très froid\n"
     ]
    }
   ],
   "source": [
    "a =(\"Il y a beaucoup de vent\" \" Il fait très froid\")\n",
    "print(a)"
   ]
  },
  {
   "cell_type": "code",
   "execution_count": 14,
   "id": "bc08b0a3",
   "metadata": {},
   "outputs": [
    {
     "name": "stdout",
     "output_type": "stream",
     "text": [
      "Bouddha a dit un jour : accepte ce qui est, laisse aller ce qui était et aie confiance en ce qui sera\n"
     ]
    }
   ],
   "source": [
    "txt=(\"Bouddha a dit un jour : accepte ce qui est, laisse aller ce qui était et aie confiance en ce qui sera\")\n",
    "print(txt)"
   ]
  },
  {
   "cell_type": "code",
   "execution_count": 15,
   "id": "74f8abc8",
   "metadata": {},
   "outputs": [
    {
     "name": "stdout",
     "output_type": "stream",
     "text": [
      "lorraine\n"
     ]
    }
   ],
   "source": [
    "name=('lorraine')\n",
    "print(name)"
   ]
  },
  {
   "cell_type": "code",
   "execution_count": 16,
   "id": "7073823e",
   "metadata": {},
   "outputs": [
    {
     "name": "stdout",
     "output_type": "stream",
     "text": [
      "LORRAINE\n"
     ]
    }
   ],
   "source": [
    "name=('lorraine')\n",
    "x=name.upper()\n",
    "print(x)"
   ]
  },
  {
   "cell_type": "code",
   "execution_count": 17,
   "id": "3719e812",
   "metadata": {},
   "outputs": [
    {
     "name": "stdout",
     "output_type": "stream",
     "text": [
      "Lorraine\n"
     ]
    }
   ],
   "source": [
    "name=('lorraine')\n",
    "x=name.title()\n",
    "print(x)"
   ]
  },
  {
   "cell_type": "code",
   "execution_count": 19,
   "id": "a913e78a",
   "metadata": {},
   "outputs": [
    {
     "name": "stdout",
     "output_type": "stream",
     "text": [
      "Lorraine FISCHER\n"
     ]
    }
   ],
   "source": [
    "a=('Lorraine ')\n",
    "b=('FISCHER')\n",
    "print(a+b)"
   ]
  },
  {
   "cell_type": "code",
   "execution_count": 20,
   "id": "4b247816",
   "metadata": {},
   "outputs": [
    {
     "name": "stdout",
     "output_type": "stream",
     "text": [
      "Gal Gadot\n"
     ]
    }
   ],
   "source": [
    "a=('Gal')\n",
    "b=('Gadot')\n",
    "print('Gal '+'Gadot')"
   ]
  },
  {
   "cell_type": "code",
   "execution_count": 27,
   "id": "46f8fb88",
   "metadata": {},
   "outputs": [
    {
     "name": "stdout",
     "output_type": "stream",
     "text": [
      " lorraine \n"
     ]
    }
   ],
   "source": [
    "name=(' lorraine ')\n",
    "print(name)"
   ]
  },
  {
   "cell_type": "code",
   "execution_count": 28,
   "id": "4aa6faae",
   "metadata": {},
   "outputs": [
    {
     "name": "stdout",
     "output_type": "stream",
     "text": [
      "-lorraine-\n"
     ]
    }
   ],
   "source": [
    "name=(' lorraine ')\n",
    "print('-' + name.strip() + '-')"
   ]
  },
  {
   "cell_type": "code",
   "execution_count": 29,
   "id": "15f95062",
   "metadata": {},
   "outputs": [
    {
     "name": "stdout",
     "output_type": "stream",
     "text": [
      "-lorraine -\n"
     ]
    }
   ],
   "source": [
    "name=(' lorraine ')\n",
    "print('-' + name.lstrip() + '-')"
   ]
  },
  {
   "cell_type": "code",
   "execution_count": 30,
   "id": "b199ae16",
   "metadata": {},
   "outputs": [
    {
     "name": "stdout",
     "output_type": "stream",
     "text": [
      "- lorraine-\n"
     ]
    }
   ],
   "source": [
    "name=(' lorraine ')\n",
    "print('-' + name.rstrip() + '-')"
   ]
  },
  {
   "cell_type": "code",
   "execution_count": 31,
   "id": "a9e2c1c4",
   "metadata": {},
   "outputs": [
    {
     "name": "stdout",
     "output_type": "stream",
     "text": [
      "13\n"
     ]
    }
   ],
   "source": [
    "operation=(3+2*5)\n",
    "print(operation)"
   ]
  },
  {
   "cell_type": "code",
   "execution_count": 32,
   "id": "bf5cac1e",
   "metadata": {},
   "outputs": [
    {
     "name": "stdout",
     "output_type": "stream",
     "text": [
      "25\n"
     ]
    }
   ],
   "source": [
    "operation=(3+2)*5\n",
    "print(operation)"
   ]
  },
  {
   "cell_type": "code",
   "execution_count": 35,
   "id": "43ebf7be",
   "metadata": {},
   "outputs": [
    {
     "name": "stdout",
     "output_type": "stream",
     "text": [
      "0.023000000000000003\n"
     ]
    }
   ],
   "source": [
    "calcul=(0.1*0.23)\n",
    "print(calcul)"
   ]
  },
  {
   "cell_type": "code",
   "execution_count": null,
   "id": "0cb0327d",
   "metadata": {},
   "outputs": [],
   "source": []
  }
 ],
 "metadata": {
  "kernelspec": {
   "display_name": "Python 3 (ipykernel)",
   "language": "python",
   "name": "python3"
  },
  "language_info": {
   "codemirror_mode": {
    "name": "ipython",
    "version": 3
   },
   "file_extension": ".py",
   "mimetype": "text/x-python",
   "name": "python",
   "nbconvert_exporter": "python",
   "pygments_lexer": "ipython3",
   "version": "3.9.7"
  }
 },
 "nbformat": 4,
 "nbformat_minor": 5
}
